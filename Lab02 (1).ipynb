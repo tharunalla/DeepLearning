{
 "cells": [
  {
   "cell_type": "code",
   "execution_count": 1,
   "id": "4d603804-42c5-4eed-8cfd-2daa62e59d27",
   "metadata": {},
   "outputs": [],
   "source": [
    "import numpy as np\n",
    "import tensorflow as tf\n",
    "from sklearn.datasets import load_iris\n",
    "from sklearn.model_selection import train_test_split\n",
    "from sklearn.preprocessing import OneHotEncoder, StandardScaler"
   ]
  },
  {
   "cell_type": "code",
   "execution_count": 2,
   "id": "89ccddb6-7ff4-4e51-a683-9489f14f44b5",
   "metadata": {},
   "outputs": [],
   "source": [
    "# Load Iris dataset\n",
    "iris = load_iris()\n",
    "X = iris.data\n",
    "y = iris.target\n"
   ]
  },
  {
   "cell_type": "code",
   "execution_count": 3,
   "id": "4318f9ea-9fdd-4de2-8737-b38cb4f6eb62",
   "metadata": {},
   "outputs": [],
   "source": [
    "# One-hot encoding for the target\n",
    "encoder = OneHotEncoder(sparse_output=False)\n",
    "y = encoder.fit_transform(y.reshape(-1, 1))"
   ]
  },
  {
   "cell_type": "code",
   "execution_count": 4,
   "id": "7b4f5017-08b5-4822-873e-ac1ecc629179",
   "metadata": {},
   "outputs": [],
   "source": [
    "# Normalize the input data\n",
    "scaler = StandardScaler()\n",
    "X = scaler.fit_transform(X)"
   ]
  },
  {
   "cell_type": "code",
   "execution_count": 5,
   "id": "1e3b38b0-bad7-488a-ad39-825156316ef8",
   "metadata": {},
   "outputs": [],
   "source": [
    "# Split into train and test sets\n",
    "X_train, X_test, y_train, y_test = train_test_split(X, y, test_size=0.2, random_state=42)"
   ]
  },
  {
   "cell_type": "code",
   "execution_count": 16,
   "id": "7a7c07bd-7407-4239-b000-f02464a2042d",
   "metadata": {},
   "outputs": [],
   "source": [
    "# Model Parameters\n",
    "input_dim = X_train.shape[1]  # Number of features\n",
    "hidden_dim = 32              # Hidden layer size\n",
    "output_dim = y_train.shape[1]  # Number of classes\n",
    "learning_rate = 0.0032\n",
    "batch_size = 16\n",
    "epochs = 40\n"
   ]
  },
  {
   "cell_type": "code",
   "execution_count": 17,
   "id": "b8393f01-eba6-43b1-9a83-820c13b08336",
   "metadata": {},
   "outputs": [],
   "source": [
    "# Define the Neural Network model\n",
    "class MultiLayerNN(tf.keras.Model):\n",
    "    def __init__(self, input_dim, hidden_dim, output_dim):\n",
    "        super(MultiLayerNN, self).__init__()\n",
    "        self.hidden_layer = tf.keras.layers.Dense(hidden_dim, activation='relu')\n",
    "        self.output_layer = tf.keras.layers.Dense(output_dim, activation='softmax')\n",
    "\n",
    "    def call(self, inputs):\n",
    "        x = self.hidden_layer(inputs)\n",
    "        return self.output_layer(x)"
   ]
  },
  {
   "cell_type": "code",
   "execution_count": 18,
   "id": "028c8713-677f-4253-bf18-77e58c1d5fed",
   "metadata": {},
   "outputs": [],
   "source": [
    "# Initialize the model\n",
    "model = MultiLayerNN(input_dim, hidden_dim, output_dim)"
   ]
  },
  {
   "cell_type": "code",
   "execution_count": 19,
   "id": "71feb28d-539f-4ed1-826c-56c3c8fc909b",
   "metadata": {},
   "outputs": [],
   "source": [
    "# Define loss function (categorical crossentropy) and optimizer (Adam)\n",
    "loss_fn = tf.keras.losses.CategoricalCrossentropy()\n",
    "optimizer = tf.keras.optimizers.Adam(learning_rate=learning_rate)"
   ]
  },
  {
   "cell_type": "code",
   "execution_count": 20,
   "id": "fc18b32b-f420-446b-807c-0e53fc4fd6ac",
   "metadata": {},
   "outputs": [],
   "source": [
    "# Compile the model\n",
    "model.compile(optimizer=optimizer, loss=loss_fn, metrics=['accuracy'])"
   ]
  },
  {
   "cell_type": "code",
   "execution_count": 21,
   "id": "4da8ea04-9064-46ab-a526-f9f5317029c5",
   "metadata": {},
   "outputs": [
    {
     "name": "stdout",
     "output_type": "stream",
     "text": [
      "Epoch 1/40\n",
      "\u001b[1m8/8\u001b[0m \u001b[32m━━━━━━━━━━━━━━━━━━━━\u001b[0m\u001b[37m\u001b[0m \u001b[1m4s\u001b[0m 121ms/step - accuracy: 0.5181 - loss: 0.9064 - val_accuracy: 0.5000 - val_loss: 0.7841\n",
      "Epoch 2/40\n",
      "\u001b[1m8/8\u001b[0m \u001b[32m━━━━━━━━━━━━━━━━━━━━\u001b[0m\u001b[37m\u001b[0m \u001b[1m0s\u001b[0m 17ms/step - accuracy: 0.6507 - loss: 0.7100 - val_accuracy: 0.7333 - val_loss: 0.6175\n",
      "Epoch 3/40\n",
      "\u001b[1m8/8\u001b[0m \u001b[32m━━━━━━━━━━━━━━━━━━━━\u001b[0m\u001b[37m\u001b[0m \u001b[1m0s\u001b[0m 14ms/step - accuracy: 0.7251 - loss: 0.5985 - val_accuracy: 0.7333 - val_loss: 0.5168\n",
      "Epoch 4/40\n",
      "\u001b[1m8/8\u001b[0m \u001b[32m━━━━━━━━━━━━━━━━━━━━\u001b[0m\u001b[37m\u001b[0m \u001b[1m0s\u001b[0m 14ms/step - accuracy: 0.6777 - loss: 0.5778 - val_accuracy: 0.7667 - val_loss: 0.4561\n",
      "Epoch 5/40\n",
      "\u001b[1m8/8\u001b[0m \u001b[32m━━━━━━━━━━━━━━━━━━━━\u001b[0m\u001b[37m\u001b[0m \u001b[1m0s\u001b[0m 14ms/step - accuracy: 0.7780 - loss: 0.4929 - val_accuracy: 0.8000 - val_loss: 0.4171\n",
      "Epoch 6/40\n",
      "\u001b[1m8/8\u001b[0m \u001b[32m━━━━━━━━━━━━━━━━━━━━\u001b[0m\u001b[37m\u001b[0m \u001b[1m0s\u001b[0m 16ms/step - accuracy: 0.8467 - loss: 0.4332 - val_accuracy: 0.8333 - val_loss: 0.3872\n",
      "Epoch 7/40\n",
      "\u001b[1m8/8\u001b[0m \u001b[32m━━━━━━━━━━━━━━━━━━━━\u001b[0m\u001b[37m\u001b[0m \u001b[1m0s\u001b[0m 15ms/step - accuracy: 0.8111 - loss: 0.4308 - val_accuracy: 0.8333 - val_loss: 0.3631\n",
      "Epoch 8/40\n",
      "\u001b[1m8/8\u001b[0m \u001b[32m━━━━━━━━━━━━━━━━━━━━\u001b[0m\u001b[37m\u001b[0m \u001b[1m0s\u001b[0m 14ms/step - accuracy: 0.7958 - loss: 0.4563 - val_accuracy: 0.8333 - val_loss: 0.3404\n",
      "Epoch 9/40\n",
      "\u001b[1m8/8\u001b[0m \u001b[32m━━━━━━━━━━━━━━━━━━━━\u001b[0m\u001b[37m\u001b[0m \u001b[1m0s\u001b[0m 14ms/step - accuracy: 0.8549 - loss: 0.3763 - val_accuracy: 0.8667 - val_loss: 0.3187\n",
      "Epoch 10/40\n",
      "\u001b[1m8/8\u001b[0m \u001b[32m━━━━━━━━━━━━━━━━━━━━\u001b[0m\u001b[37m\u001b[0m \u001b[1m0s\u001b[0m 17ms/step - accuracy: 0.8594 - loss: 0.3652 - val_accuracy: 0.9000 - val_loss: 0.2985\n",
      "Epoch 11/40\n",
      "\u001b[1m8/8\u001b[0m \u001b[32m━━━━━━━━━━━━━━━━━━━━\u001b[0m\u001b[37m\u001b[0m \u001b[1m0s\u001b[0m 16ms/step - accuracy: 0.8701 - loss: 0.3260 - val_accuracy: 0.9000 - val_loss: 0.2805\n",
      "Epoch 12/40\n",
      "\u001b[1m8/8\u001b[0m \u001b[32m━━━━━━━━━━━━━━━━━━━━\u001b[0m\u001b[37m\u001b[0m \u001b[1m0s\u001b[0m 15ms/step - accuracy: 0.8662 - loss: 0.3110 - val_accuracy: 0.9000 - val_loss: 0.2662\n",
      "Epoch 13/40\n",
      "\u001b[1m8/8\u001b[0m \u001b[32m━━━━━━━━━━━━━━━━━━━━\u001b[0m\u001b[37m\u001b[0m \u001b[1m0s\u001b[0m 26ms/step - accuracy: 0.8655 - loss: 0.3152 - val_accuracy: 0.9333 - val_loss: 0.2472\n",
      "Epoch 14/40\n",
      "\u001b[1m8/8\u001b[0m \u001b[32m━━━━━━━━━━━━━━━━━━━━\u001b[0m\u001b[37m\u001b[0m \u001b[1m0s\u001b[0m 15ms/step - accuracy: 0.8927 - loss: 0.3197 - val_accuracy: 0.9333 - val_loss: 0.2293\n",
      "Epoch 15/40\n",
      "\u001b[1m8/8\u001b[0m \u001b[32m━━━━━━━━━━━━━━━━━━━━\u001b[0m\u001b[37m\u001b[0m \u001b[1m0s\u001b[0m 16ms/step - accuracy: 0.8933 - loss: 0.2939 - val_accuracy: 0.9333 - val_loss: 0.2131\n",
      "Epoch 16/40\n",
      "\u001b[1m8/8\u001b[0m \u001b[32m━━━━━━━━━━━━━━━━━━━━\u001b[0m\u001b[37m\u001b[0m \u001b[1m0s\u001b[0m 15ms/step - accuracy: 0.8878 - loss: 0.2625 - val_accuracy: 0.9333 - val_loss: 0.1993\n",
      "Epoch 17/40\n",
      "\u001b[1m8/8\u001b[0m \u001b[32m━━━━━━━━━━━━━━━━━━━━\u001b[0m\u001b[37m\u001b[0m \u001b[1m0s\u001b[0m 14ms/step - accuracy: 0.9482 - loss: 0.2176 - val_accuracy: 0.9333 - val_loss: 0.1832\n",
      "Epoch 18/40\n",
      "\u001b[1m8/8\u001b[0m \u001b[32m━━━━━━━━━━━━━━━━━━━━\u001b[0m\u001b[37m\u001b[0m \u001b[1m0s\u001b[0m 13ms/step - accuracy: 0.9022 - loss: 0.2269 - val_accuracy: 0.9667 - val_loss: 0.1746\n",
      "Epoch 19/40\n",
      "\u001b[1m8/8\u001b[0m \u001b[32m━━━━━━━━━━━━━━━━━━━━\u001b[0m\u001b[37m\u001b[0m \u001b[1m0s\u001b[0m 15ms/step - accuracy: 0.9179 - loss: 0.2235 - val_accuracy: 0.9667 - val_loss: 0.1639\n",
      "Epoch 20/40\n",
      "\u001b[1m8/8\u001b[0m \u001b[32m━━━━━━━━━━━━━━━━━━━━\u001b[0m\u001b[37m\u001b[0m \u001b[1m0s\u001b[0m 13ms/step - accuracy: 0.9634 - loss: 0.1582 - val_accuracy: 1.0000 - val_loss: 0.1496\n",
      "Epoch 21/40\n",
      "\u001b[1m8/8\u001b[0m \u001b[32m━━━━━━━━━━━━━━━━━━━━\u001b[0m\u001b[37m\u001b[0m \u001b[1m0s\u001b[0m 15ms/step - accuracy: 0.9482 - loss: 0.1945 - val_accuracy: 1.0000 - val_loss: 0.1408\n",
      "Epoch 22/40\n",
      "\u001b[1m8/8\u001b[0m \u001b[32m━━━━━━━━━━━━━━━━━━━━\u001b[0m\u001b[37m\u001b[0m \u001b[1m0s\u001b[0m 15ms/step - accuracy: 0.9329 - loss: 0.1992 - val_accuracy: 1.0000 - val_loss: 0.1304\n",
      "Epoch 23/40\n",
      "\u001b[1m8/8\u001b[0m \u001b[32m━━━━━━━━━━━━━━━━━━━━\u001b[0m\u001b[37m\u001b[0m \u001b[1m0s\u001b[0m 13ms/step - accuracy: 0.9603 - loss: 0.1683 - val_accuracy: 1.0000 - val_loss: 0.1247\n",
      "Epoch 24/40\n",
      "\u001b[1m8/8\u001b[0m \u001b[32m━━━━━━━━━━━━━━━━━━━━\u001b[0m\u001b[37m\u001b[0m \u001b[1m0s\u001b[0m 21ms/step - accuracy: 0.9759 - loss: 0.1523 - val_accuracy: 1.0000 - val_loss: 0.1194\n",
      "Epoch 25/40\n",
      "\u001b[1m8/8\u001b[0m \u001b[32m━━━━━━━━━━━━━━━━━━━━\u001b[0m\u001b[37m\u001b[0m \u001b[1m0s\u001b[0m 21ms/step - accuracy: 0.9487 - loss: 0.1513 - val_accuracy: 1.0000 - val_loss: 0.1086\n",
      "Epoch 26/40\n",
      "\u001b[1m8/8\u001b[0m \u001b[32m━━━━━━━━━━━━━━━━━━━━\u001b[0m\u001b[37m\u001b[0m \u001b[1m0s\u001b[0m 15ms/step - accuracy: 0.9780 - loss: 0.1199 - val_accuracy: 1.0000 - val_loss: 0.1022\n",
      "Epoch 27/40\n",
      "\u001b[1m8/8\u001b[0m \u001b[32m━━━━━━━━━━━━━━━━━━━━\u001b[0m\u001b[37m\u001b[0m \u001b[1m0s\u001b[0m 14ms/step - accuracy: 0.9424 - loss: 0.1499 - val_accuracy: 1.0000 - val_loss: 0.0974\n",
      "Epoch 28/40\n",
      "\u001b[1m8/8\u001b[0m \u001b[32m━━━━━━━━━━━━━━━━━━━━\u001b[0m\u001b[37m\u001b[0m \u001b[1m0s\u001b[0m 14ms/step - accuracy: 0.9362 - loss: 0.1252 - val_accuracy: 1.0000 - val_loss: 0.0931\n",
      "Epoch 29/40\n",
      "\u001b[1m8/8\u001b[0m \u001b[32m━━━━━━━━━━━━━━━━━━━━\u001b[0m\u001b[37m\u001b[0m \u001b[1m0s\u001b[0m 14ms/step - accuracy: 0.9310 - loss: 0.1504 - val_accuracy: 1.0000 - val_loss: 0.0862\n",
      "Epoch 30/40\n",
      "\u001b[1m8/8\u001b[0m \u001b[32m━━━━━━━━━━━━━━━━━━━━\u001b[0m\u001b[37m\u001b[0m \u001b[1m0s\u001b[0m 14ms/step - accuracy: 0.9691 - loss: 0.0975 - val_accuracy: 1.0000 - val_loss: 0.0837\n",
      "Epoch 31/40\n",
      "\u001b[1m8/8\u001b[0m \u001b[32m━━━━━━━━━━━━━━━━━━━━\u001b[0m\u001b[37m\u001b[0m \u001b[1m0s\u001b[0m 12ms/step - accuracy: 0.9618 - loss: 0.1042 - val_accuracy: 1.0000 - val_loss: 0.0791\n",
      "Epoch 32/40\n",
      "\u001b[1m8/8\u001b[0m \u001b[32m━━━━━━━━━━━━━━━━━━━━\u001b[0m\u001b[37m\u001b[0m \u001b[1m0s\u001b[0m 14ms/step - accuracy: 0.9615 - loss: 0.0978 - val_accuracy: 1.0000 - val_loss: 0.0774\n",
      "Epoch 33/40\n",
      "\u001b[1m8/8\u001b[0m \u001b[32m━━━━━━━━━━━━━━━━━━━━\u001b[0m\u001b[37m\u001b[0m \u001b[1m0s\u001b[0m 13ms/step - accuracy: 0.9339 - loss: 0.1204 - val_accuracy: 1.0000 - val_loss: 0.0762\n",
      "Epoch 34/40\n",
      "\u001b[1m8/8\u001b[0m \u001b[32m━━━━━━━━━━━━━━━━━━━━\u001b[0m\u001b[37m\u001b[0m \u001b[1m0s\u001b[0m 12ms/step - accuracy: 0.9793 - loss: 0.0850 - val_accuracy: 1.0000 - val_loss: 0.0743\n",
      "Epoch 35/40\n",
      "\u001b[1m8/8\u001b[0m \u001b[32m━━━━━━━━━━━━━━━━━━━━\u001b[0m\u001b[37m\u001b[0m \u001b[1m0s\u001b[0m 13ms/step - accuracy: 0.9354 - loss: 0.1146 - val_accuracy: 1.0000 - val_loss: 0.0693\n",
      "Epoch 36/40\n",
      "\u001b[1m8/8\u001b[0m \u001b[32m━━━━━━━━━━━━━━━━━━━━\u001b[0m\u001b[37m\u001b[0m \u001b[1m0s\u001b[0m 14ms/step - accuracy: 0.9747 - loss: 0.0846 - val_accuracy: 1.0000 - val_loss: 0.0662\n",
      "Epoch 37/40\n",
      "\u001b[1m8/8\u001b[0m \u001b[32m━━━━━━━━━━━━━━━━━━━━\u001b[0m\u001b[37m\u001b[0m \u001b[1m0s\u001b[0m 13ms/step - accuracy: 0.9610 - loss: 0.0838 - val_accuracy: 1.0000 - val_loss: 0.0634\n",
      "Epoch 38/40\n",
      "\u001b[1m8/8\u001b[0m \u001b[32m━━━━━━━━━━━━━━━━━━━━\u001b[0m\u001b[37m\u001b[0m \u001b[1m0s\u001b[0m 13ms/step - accuracy: 0.9726 - loss: 0.0764 - val_accuracy: 1.0000 - val_loss: 0.0624\n",
      "Epoch 39/40\n",
      "\u001b[1m8/8\u001b[0m \u001b[32m━━━━━━━━━━━━━━━━━━━━\u001b[0m\u001b[37m\u001b[0m \u001b[1m0s\u001b[0m 14ms/step - accuracy: 0.9693 - loss: 0.0745 - val_accuracy: 1.0000 - val_loss: 0.0604\n",
      "Epoch 40/40\n",
      "\u001b[1m8/8\u001b[0m \u001b[32m━━━━━━━━━━━━━━━━━━━━\u001b[0m\u001b[37m\u001b[0m \u001b[1m0s\u001b[0m 15ms/step - accuracy: 0.9483 - loss: 0.0986 - val_accuracy: 1.0000 - val_loss: 0.0619\n"
     ]
    }
   ],
   "source": [
    "# Train the model using mini-batch SGD\n",
    "history = model.fit(\n",
    "    X_train, y_train,\n",
    "    validation_data=(X_test, y_test),\n",
    "    batch_size=batch_size,\n",
    "    epochs=epochs,\n",
    "    verbose=1\n",
    ")"
   ]
  },
  {
   "cell_type": "code",
   "execution_count": 22,
   "id": "70902756-b610-4ffb-b567-b58a4dbc10df",
   "metadata": {},
   "outputs": [
    {
     "name": "stdout",
     "output_type": "stream",
     "text": [
      "Test Loss: 0.0619\n",
      "Test Accuracy: 1.0000\n"
     ]
    }
   ],
   "source": [
    "# Evaluate the model\n",
    "loss, accuracy = model.evaluate(X_test, y_test, verbose=0)\n",
    "print(f\"Test Loss: {loss:.4f}\")\n",
    "print(f\"Test Accuracy: {accuracy:.4f}\")\n"
   ]
  },
  {
   "cell_type": "code",
   "execution_count": 23,
   "id": "edb65d8e-54d2-4a36-9aec-b52f595eb194",
   "metadata": {},
   "outputs": [
    {
     "name": "stdout",
     "output_type": "stream",
     "text": [
      "\u001b[1m1/1\u001b[0m \u001b[32m━━━━━━━━━━━━━━━━━━━━\u001b[0m\u001b[37m\u001b[0m \u001b[1m0s\u001b[0m 169ms/step\n"
     ]
    }
   ],
   "source": [
    "# Predict on test data\n",
    "y_pred = model.predict(X_test)\n",
    "predicted_classes = np.argmax(y_pred, axis=1)\n",
    "true_classes = np.argmax(y_test, axis=1)\n"
   ]
  },
  {
   "cell_type": "code",
   "execution_count": 24,
   "id": "558c5172-e544-4027-b27d-23977534d2c8",
   "metadata": {},
   "outputs": [
    {
     "name": "stdout",
     "output_type": "stream",
     "text": [
      "Predictions: [1 0 2 1 1]\n",
      "True Labels: [1 0 2 1 1]\n"
     ]
    }
   ],
   "source": [
    "# Print the first 5 predictions\n",
    "print(\"Predictions:\", predicted_classes[:5])\n",
    "print(\"True Labels:\", true_classes[:5])\n"
   ]
  },
  {
   "cell_type": "code",
   "execution_count": 25,
   "id": "4fcf690d-7895-449c-84bc-f8d8da95dd2a",
   "metadata": {},
   "outputs": [
    {
     "data": {
      "image/png": "[encoded data removed]",
      "text/plain": [
       "<Figure size 640x480 with 1 Axes>"
      ]
     },
     "metadata": {},
     "output_type": "display_data"
    }
   ],
   "source": [
    "# Plot training vs validation accuracy\n",
    "import matplotlib.pyplot as plt\n",
    "\n",
    "plt.plot(history.history['accuracy'], label='Train Accuracy')\n",
    "plt.plot(history.history['val_accuracy'], label='Validation Accuracy')\n",
    "plt.xlabel('Epochs')\n",
    "plt.ylabel('Accuracy')\n",
    "plt.legend()\n",
    "plt.title('Training vs Validation Accuracy')\n",
    "plt.show()\n"
   ]
  },
  {
   "cell_type": "code",
   "execution_count": null,
   "id": "57d7741a-32c5-415f-ae65-ad8e17dab80b",
   "metadata": {},
   "outputs": [],
   "source": []
  }
 ],
 "metadata": {
  "kernelspec": {
   "display_name": "Python 3 (ipykernel)",
   "language": "python",
   "name": "python3"
  },
  "language_info": {
   "codemirror_mode": {
    "name": "ipython",
    "version": 3
   },
   "file_extension": ".py",
   "mimetype": "text/x-python",
   "name": "python",
   "nbconvert_exporter": "python",
   "pygments_lexer": "ipython3",
   "version": "3.11.7"
  }
 },
 "nbformat": 4,
 "nbformat_minor": 5
}
